{
  "cells": [
    {
      "source": [
        "# IMPORTANT: RUN THIS CELL IN ORDER TO IMPORT YOUR KAGGLE DATA SOURCES,\n",
        "# THEN FEEL FREE TO DELETE THIS CELL.\n",
        "# NOTE: THIS NOTEBOOK ENVIRONMENT DIFFERS FROM KAGGLE'S PYTHON\n",
        "# ENVIRONMENT SO THERE MAY BE MISSING LIBRARIES USED BY YOUR\n",
        "# NOTEBOOK.\n",
        "import kagglehub\n",
        "atulanandjha_lfwpeople_path = kagglehub.dataset_download('atulanandjha/lfwpeople')\n",
        "\n",
        "print('Data source import complete.')\n"
      ],
      "metadata": {
        "id": "e-JU8vHbUy8J"
      },
      "cell_type": "code",
      "outputs": [],
      "execution_count": null
    },
    {
      "cell_type": "code",
      "source": [
        "from google.colab import drive\n",
        "drive.mount('/content/drive')"
      ],
      "metadata": {
        "id": "PRtL5ZxMU7Fm"
      },
      "execution_count": null,
      "outputs": []
    },
    {
      "cell_type": "code",
      "source": [],
      "metadata": {
        "id": "gNTkBqUYVFZG"
      },
      "execution_count": null,
      "outputs": []
    },
    {
      "metadata": {
        "_uuid": "903ae7ba1a94fbcd11c00accb391d8f27f59971f",
        "id": "OtedQRweUy8L"
      },
      "cell_type": "markdown",
      "source": [
        "<a class=\"anchor\" id=\"0.\"></a>**Content**\n",
        "\n",
        "1. [Summary](#1.)\n",
        "1. [Detecting Faces in National Football Team Image](#1e1.)\n",
        "1. [FetchLFW class](#2.)\n",
        "1. [Fetching LFW images](#3.)\n",
        "1. [Helper Funciton:get_photo_gallery()](#4.)\n",
        "1. [Showing Images as Photo Gallery](#5.)\n",
        "1. [Detecting Faces in LFW Dataset](#7.)\n",
        "1. [Showing Detected Faces as Photo Gallery](#8.)\n",
        "\n",
        "Quick Links: [1](#1.)  |  [2](#1e1.)  |  [3](#2.)  |  [4](#3.)  |  [5](#4.)  |   [6](#5.)  |  [7](#7.)  |  [8](#8.)"
      ]
    },
    {
      "metadata": {
        "_uuid": "8f2839f25d086af736a60e9eeb907d3b93b6e0e5",
        "_cell_guid": "b1076dfc-b9ad-4769-8c92-a6c4dae69d19",
        "trusted": true,
        "_kg_hide-input": true,
        "id": "lUSz5k_GUy8N"
      },
      "cell_type": "code",
      "source": [
        "\n",
        "import numpy as np # linear algebra\n",
        "import pandas as pd # data processing, CSV file I/O (e.g. pd.read_csv)\n",
        "\n",
        "#Visiulazation\n",
        "import matplotlib.pyplot as plt\n",
        "\n",
        "#image processing\n",
        "import cv2\n",
        "\n",
        "#extracting zippped file\n",
        "import tarfile\n",
        "\n",
        "#systems\n",
        "import os\n",
        "print(os.listdir(\"../input/haarcascade-frontal-faces\"))\n",
        "print(os.listdir(\"../input/lfwpeople\"))"
      ],
      "execution_count": null,
      "outputs": []
    },
    {
      "metadata": {
        "_uuid": "cd209cd4e3490c93392853190b9693fcc4f55f0c",
        "id": "f1x9819oUy8O"
      },
      "cell_type": "markdown",
      "source": [
        " [Go to Content Menu](#0.)    |             Quick Links: [1](#1.)  |  [2](#1e1.)  |  [3](#2.)  |  [4](#3.)  |  [5](#4.)  |   [6](#5.)  |  [7](#7.)  |  [8](#8.)\n",
        "\n",
        "<a class=\"anchor\" id=\"1.\"></a>\n",
        "# **1. Summary**\n",
        "\n",
        "In this study, face detection was performed from the images in the LFW data set.\n",
        "\n",
        "Before face detection in LFW images, multiple face detection performed in single images.\n",
        "\n",
        "Desired number of images are taken from the zip file in the LFW data set. Then the face detection was made from these images."
      ]
    },
    {
      "metadata": {
        "_uuid": "d4324c14a5dd012695e840905321d40b5d7b2fa4",
        "id": "Olj-bwD_Uy8P"
      },
      "cell_type": "markdown",
      "source": [
        " [Go to Content Menu](#0.)    |             Quick Links: [1](#1.)  |  [2](#1e1.)  |  [3](#2.)  |  [4](#3.)  |  [5](#4.)  |   [6](#5.)  |  [7](#7.)  |  [8](#8.)\n",
        "\n",
        "<a class=\"anchor\" id=\"6.\"></a>\n",
        "# **FaceDetector class**"
      ]
    },
    {
      "metadata": {
        "trusted": true,
        "_uuid": "42e758563b0708546ddf36d7449607549e528170",
        "_kg_hide-input": true,
        "id": "MXi_R_hfUy8Q"
      },
      "cell_type": "code",
      "source": [
        "class FaceDetector():\n",
        "\n",
        "    def __init__(self,faceCascadePath):\n",
        "        self.faceCascade=cv2.CascadeClassifier(faceCascadePath)\n",
        "\n",
        "\n",
        "    def detect(self, image, scaleFactor=1.1,\n",
        "               minNeighbors=5,\n",
        "               minSize=(30,30)):\n",
        "\n",
        "        #function return rectangle coordinates of faces for given image\n",
        "        rects=self.faceCascade.detectMultiScale(image,\n",
        "                                                scaleFactor=scaleFactor,\n",
        "                                                minNeighbors=minNeighbors,\n",
        "                                                minSize=minSize)\n",
        "        return rects"
      ],
      "execution_count": null,
      "outputs": []
    },
    {
      "metadata": {
        "trusted": true,
        "_uuid": "40cfb3765a0201c9dde634c79d492275320d27f0",
        "id": "rJbqBmi8Uy8R"
      },
      "cell_type": "code",
      "source": [
        "#Frontal face of haar cascade loaded\n",
        "frontal_cascade_path=\"../input/haarcascade-frontal-faces/haarcascade_frontalface_default.xml\"\n",
        "\n",
        "#Detector object created\n",
        "fd=FaceDetector(frontal_cascade_path)"
      ],
      "execution_count": null,
      "outputs": []
    },
    {
      "metadata": {
        "trusted": true,
        "_uuid": "12983332defabe2f3e6ba4b312fb717649e4472b",
        "id": "NqTxdgPqUy8S"
      },
      "cell_type": "code",
      "source": [
        "#An image contains faces, loaded\n",
        "national_team_org=cv2.imread(\"../input/haarcascade-frontal-faces/millitakim-isvecmaci.jpg\")"
      ],
      "execution_count": null,
      "outputs": []
    },
    {
      "metadata": {
        "_uuid": "8da74338a0cb294daeb3c116143b95b3cb9b27a3",
        "id": "_1wqJG7QUy8T"
      },
      "cell_type": "markdown",
      "source": [
        " [Go to Content Menu](#0.)    |             Quick Links: [1](#1.)  |  [2](#1e1.)  |  [3](#2.)  |  [4](#3.)  |  [5](#4.)  |   [6](#5.)  |  [7](#7.)  |  [8](#8.)\n",
        "\n",
        "<a class=\"anchor\" id=\"1e1.\"></a>\n",
        "# **2. Detecting Faces in National Football Team Image**"
      ]
    },
    {
      "metadata": {
        "trusted": true,
        "_uuid": "b395e885e4c4c963557d11f6ba67e9612e189225",
        "id": "PPquY6mNUy8T"
      },
      "cell_type": "code",
      "source": [
        "def get_national_team():\n",
        "    return np.copy(national_team_org)\n",
        "\n",
        "def show_image(image):\n",
        "    plt.figure(figsize=(18,15))\n",
        "    #Before showing image, bgr color order transformed to rgb order\n",
        "    plt.imshow(cv2.cvtColor(image, cv2.COLOR_BGR2RGB))\n",
        "    plt.xticks([])\n",
        "    plt.yticks([])\n",
        "    plt.show()"
      ],
      "execution_count": null,
      "outputs": []
    },
    {
      "metadata": {
        "trusted": true,
        "_uuid": "8fd0dcafc3951e089ca1c1b41e941ed0f8e1aaba",
        "id": "L2j9MB6EUy8U"
      },
      "cell_type": "code",
      "source": [
        "show_image(get_national_team())"
      ],
      "execution_count": null,
      "outputs": []
    },
    {
      "metadata": {
        "trusted": true,
        "_uuid": "951c47fd6ea8607f6f8802b6c74dd2990d767315",
        "id": "-DUErEGLUy8V"
      },
      "cell_type": "code",
      "source": [
        "def detect_face(image, scaleFactor, minNeighbors, minSize):\n",
        "    # face will detected in gray image\n",
        "    image_gray=cv2.cvtColor(image, cv2.COLOR_BGR2GRAY)\n",
        "\n",
        "    faces=fd.detect(image_gray,\n",
        "                   scaleFactor=scaleFactor,\n",
        "                   minNeighbors=minNeighbors,\n",
        "                   minSize=minSize)\n",
        "\n",
        "    for x, y, w, h in faces:\n",
        "        #detected faces shown in color image\n",
        "        cv2.rectangle(image,(x,y),(x+w, y+h),(127, 255,0),3)\n",
        "\n",
        "    show_image(image)\n",
        ""
      ],
      "execution_count": null,
      "outputs": []
    },
    {
      "metadata": {
        "trusted": true,
        "_uuid": "48b54b24828baed5bc616e0f59d75dd13075cea4",
        "id": "i8j739GGUy8V"
      },
      "cell_type": "code",
      "source": [
        "national_team=get_national_team()\n",
        "\n",
        "detect_face(image=national_team,\n",
        "            scaleFactor=1.9,\n",
        "            minNeighbors=3,\n",
        "            minSize=(30,30))"
      ],
      "execution_count": null,
      "outputs": []
    },
    {
      "metadata": {
        "trusted": true,
        "_uuid": "4a215db099d4f5be04b9c18c265c226a3fdfb3b3",
        "id": "4qZSoWePUy8W"
      },
      "cell_type": "code",
      "source": [
        "national_team=get_national_team()\n",
        "#Let's play around function parameters\n",
        "detect_face(image=national_team,\n",
        "            scaleFactor=1.3,\n",
        "            minNeighbors=3,\n",
        "            minSize=(30,30))"
      ],
      "execution_count": null,
      "outputs": []
    },
    {
      "metadata": {
        "_uuid": "758d412faf8b0fd9b9901649bc5dd24633bcb84e",
        "id": "eA8F0Q3VUy8W"
      },
      "cell_type": "markdown",
      "source": [
        " [Go to Content Menu](#0.)    |             Quick Links: [1](#1.)  |  [2](#1e1.)  |  [3](#2.)  |  [4](#3.)  |  [5](#4.)  |   [6](#5.)  |  [7](#7.)  |  [8](#8.)\n",
        "\n",
        "\n",
        "<a class=\"anchor\" id=\"2.\"></a>\n",
        "# **3. FetchLFW class**"
      ]
    },
    {
      "metadata": {
        "trusted": true,
        "_uuid": "973c9639634c14be7e3e15d4145c5ce9f225bd95",
        "id": "UONabiCzUy8X"
      },
      "cell_type": "code",
      "source": [
        "class FetchLFW:\n",
        "    def __init__(self, path):\n",
        "        self.path=path\n",
        "\n",
        "    def _initialize(self,dim):\n",
        "        self.dim_of_photo_gallery=dim\n",
        "        self.number_of_images=self.dim_of_photo_gallery*self.dim_of_photo_gallery\n",
        "\n",
        "        total_number_of_image=13233\n",
        "        self.random_face_indexes=np.arange(total_number_of_image)\n",
        "        np.random.shuffle(self.random_face_indexes)\n",
        "        self.n_random_face_indexes=self.random_face_indexes[:self.number_of_images]\n",
        "\n",
        "    def get_lfw_images(self,dim=5):\n",
        "\n",
        "        self._initialize(dim)\n",
        "\n",
        "\n",
        "        self.lfw_images=self._get_images()\n",
        "\n",
        "        return self.lfw_images\n",
        "\n",
        "\n",
        "    def _get_images(self):\n",
        "        image_list=[]\n",
        "        tar = tarfile.open(path, \"r:gz\")\n",
        "        counter=0\n",
        "        for tarinfo in tar:\n",
        "\n",
        "            tar.extract(tarinfo.name)\n",
        "            if tarinfo.name[-4:]==\".jpg\":\n",
        "                if counter in self.n_random_face_indexes:\n",
        "                    image=cv2.imread(tarinfo.name, cv2.IMREAD_COLOR)\n",
        "                    image=cv2.resize(image,None,fx=0.4, fy=0.4, interpolation=cv2.INTER_AREA)\n",
        "                    image_list.append(np.array(image))\n",
        "                counter+=1\n",
        "            if tarinfo.isdir():\n",
        "                pass\n",
        "            else:\n",
        "                os.remove(tarinfo.name)\n",
        "        tar.close()\n",
        "\n",
        "        return np.array(image_list)\n",
        ""
      ],
      "execution_count": null,
      "outputs": []
    },
    {
      "metadata": {
        "_uuid": "41289ad825d1e49086e917885753e7f0b28ce48d",
        "id": "ymJZ-fzMUy8X"
      },
      "cell_type": "markdown",
      "source": [
        " [Go to Content Menu](#0.)    |             Quick Links: [1](#1.)  |  [2](#1e1.)  |  [3](#2.)  |  [4](#3.)  |  [5](#4.)  |   [6](#5.)  |  [7](#7.)  |  [8](#8.)\n",
        "\n",
        "<a class=\"anchor\" id=\"3.\"></a>\n",
        "# **4. Fetching LFW Images**"
      ]
    },
    {
      "metadata": {
        "trusted": true,
        "_uuid": "e2b3452fa92587716b7fedaed132208246fa2857",
        "id": "Sryx9FKvUy8Y"
      },
      "cell_type": "code",
      "source": [
        "path=\"../input/lfwpeople/lfwfunneled.tgz\"\n",
        "fetchLFW=FetchLFW(path)\n",
        "dimension=10\n",
        "images=fetchLFW.get_lfw_images(dim=dimension)\n",
        "print(\"LFW images have been fetched\")"
      ],
      "execution_count": null,
      "outputs": []
    },
    {
      "metadata": {
        "trusted": true,
        "_uuid": "06c5baa09c2a1e17ac3bf87568c798389b0b879b",
        "id": "QIA0W_s2Uy8Y"
      },
      "cell_type": "code",
      "source": [
        "print(images.shape)"
      ],
      "execution_count": null,
      "outputs": []
    },
    {
      "metadata": {
        "_uuid": "c084f2ea9cdffe811d991d0c277641b3a37e628d",
        "id": "-BE-PP4TUy8Z"
      },
      "cell_type": "markdown",
      "source": [
        " [Go to Content Menu](#0.)    |             Quick Links: [1](#1.)  |  [2](#1e1.)  |  [3](#2.)  |  [4](#3.)  |  [5](#4.)  |   [6](#5.)  |  [7](#7.)  |  [8](#8.)\n",
        "\n",
        "<a class=\"anchor\" id=\"4.\"></a>\n",
        "# **5. Helper Function: get_photo_gallery()**"
      ]
    },
    {
      "metadata": {
        "trusted": true,
        "_uuid": "58032cd054bdfcb96cd4da4b773e94ec3f38edc0",
        "id": "mXlePaKiUy8Z"
      },
      "cell_type": "code",
      "source": [
        "def get_photo_gallery():\n",
        "    counter=0\n",
        "    himages=[]\n",
        "    vimages=[]\n",
        "    for i in range(dimension):\n",
        "        for j in range(dimension):\n",
        "\n",
        "            himages.append(images[counter])\n",
        "            counter+=1\n",
        "\n",
        "        himage=np.hstack((himages))\n",
        "        vimages.append(himage)\n",
        "        himages=[]\n",
        "    image_matrix=np.vstack((vimages))\n",
        "    return image_matrix"
      ],
      "execution_count": null,
      "outputs": []
    },
    {
      "metadata": {
        "_uuid": "ed269121bbcff1f943534c7b9ee2caad1597e723",
        "id": "lWz-VGxPUy8a"
      },
      "cell_type": "markdown",
      "source": [
        " [Go to Content Menu](#0.)    |             Quick Links: [1](#1.)  |  [2](#1e1.)  |  [3](#2.)  |  [4](#3.)  |  [5](#4.)  |   [6](#5.)  |  [7](#7.)  |  [8](#8.)\n",
        "\n",
        "<a class=\"anchor\" id=\"5.\"></a>\n",
        "# **6. Showing Images as Photo Gallery**\n"
      ]
    },
    {
      "metadata": {
        "trusted": true,
        "_uuid": "f3b717fbd182c45928ba8accd07441c6e58a6a41",
        "id": "eXwnFyRxUy8a"
      },
      "cell_type": "code",
      "source": [
        "photo_gallery=get_photo_gallery()\n",
        "print(\"photo_gallery:{}\".format(photo_gallery.shape))\n",
        "show_image(photo_gallery)"
      ],
      "execution_count": null,
      "outputs": []
    },
    {
      "metadata": {
        "_uuid": "5710249c33450ce212f83228874b794ead9c78ea",
        "id": "DJq_Q57zUy8a"
      },
      "cell_type": "markdown",
      "source": [
        " [Go to Content Menu](#0.)    |             Quick Links: [1](#1.)  |  [2](#1e1.)  |  [3](#2.)  |  [4](#3.)  |  [5](#4.)  |   [6](#5.)  |  [7](#7.)  |  [8](#8.)\n",
        "\n",
        "<a class=\"anchor\" id=\"7.\"></a>\n",
        "# **7. Detecting Faces in LFW Dataset**"
      ]
    },
    {
      "metadata": {
        "trusted": true,
        "_uuid": "9024aa89312737526c18f5199c26ff576510a3d1",
        "id": "-W6oHCyOUy8a"
      },
      "cell_type": "code",
      "source": [
        "frontal_cascade_path=\"../input/haarcascade-frontal-faces/haarcascade_frontalface_default.xml\"\n",
        "fd=FaceDetector(frontal_cascade_path)\n",
        "face_counter=0\n",
        "for image_org in images:\n",
        "\n",
        "    image_gray=cv2.cvtColor(image_org,cv2.COLOR_BGR2GRAY)\n",
        "    faceRect=fd.detect(image_gray,\n",
        "                       scaleFactor=1.1,\n",
        "                       minNeighbors=5,\n",
        "                       minSize=(30,30))\n",
        "    #print(\"I found {} faces\".format(len(faceRect)))\n",
        "    first_detection=False\n",
        "    for (x,y,w,h) in faceRect:\n",
        "        if first_detection==False:\n",
        "            face_counter+=1\n",
        "            cv2.rectangle(image_org,(x,y),(x+w,y+h),(127,255,0),2)\n",
        "            first_detection=True\n",
        "        else:\n",
        "            print(\"Second detection ignored in a image\")\n",
        "\n",
        "print(\"{} images have been scaned\".format(dimension*dimension))\n",
        "print(\"{} faces have been detected\".format(face_counter))"
      ],
      "execution_count": null,
      "outputs": []
    },
    {
      "metadata": {
        "_uuid": "9e5918140f085cd4637c0341e9e2f9a48bdca742",
        "id": "92Q2j3vaUy8b"
      },
      "cell_type": "markdown",
      "source": [
        " [Go to Content Menu](#0.)    |             Quick Links: [1](#1.)  |  [2](#1e1.)  |  [3](#2.)  |  [4](#3.)  |  [5](#4.)  |   [6](#5.)  |  [7](#7.)  |  [8](#8.)\n",
        "\n",
        "<a class=\"anchor\" id=\"8.\"></a>\n",
        "# **8. Showing Detected Faces as Photo Gallery**"
      ]
    },
    {
      "metadata": {
        "trusted": true,
        "_uuid": "33bed429652152e3bf0864fa505743420fdac5e7",
        "id": "MQCbSzbPUy8b"
      },
      "cell_type": "code",
      "source": [
        "photo_gallery=get_photo_gallery()\n",
        "show_image(photo_gallery)"
      ],
      "execution_count": null,
      "outputs": []
    }
  ],
  "metadata": {
    "kernelspec": {
      "display_name": "Python 3",
      "language": "python",
      "name": "python3"
    },
    "language_info": {
      "name": "python",
      "version": "3.6.6",
      "mimetype": "text/x-python",
      "codemirror_mode": {
        "name": "ipython",
        "version": 3
      },
      "pygments_lexer": "ipython3",
      "nbconvert_exporter": "python",
      "file_extension": ".py"
    },
    "colab": {
      "name": "Face Detection with OpenCV",
      "provenance": []
    }
  },
  "nbformat": 4,
  "nbformat_minor": 0
}